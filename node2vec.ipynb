{
 "cells": [
  {
   "cell_type": "code",
   "execution_count": 2,
   "metadata": {},
   "outputs": [
    {
     "data": {
      "image/png": "[encoded data removed]",
      "text/plain": [
       "<Figure size 432x288 with 1 Axes>"
      ]
     },
     "metadata": {
      "needs_background": "light"
     },
     "output_type": "display_data"
    }
   ],
   "source": [
    "import networkx as nx\n",
    "import gensim \n",
    "import numpy as np\n",
    "import matplotlib.pyplot as plt\n",
    "node_list=['friend1','friend2','friend3','Me','Zhang','Lan','friend4','friend5']\n",
    "edge_list=[('friend1','Me',1),('friend2','Me',1),('friend3','Me',1),('Zhang','Me',5.20)\n",
    ",('Lan','Me',2.50),('friend4','Zhang',1),('friend5','Lan',1),('Zhang','Lan',2.50)]\n",
    "#创建空图\n",
    "G=nx.Graph()\n",
    "#从一个列表中添加节点\n",
    "G.add_nodes_from(node_list)\n",
    "#根据（边，边，权重）加载\n",
    "G.add_weighted_edges_from(edge_list)\n",
    "#plot\n",
    "nx.draw_networkx(G,node_list=G.nodes(),edges=G.edges())"
   ]
  },
  {
   "cell_type": "code",
   "execution_count": 56,
   "metadata": {},
   "outputs": [],
   "source": [
    "#通过alias sample创建alias table\n",
    "import numpy as np\n",
    "def create_alias_table(area_ratio):\n",
    "    '''\n",
    "    area_ratio[i]代表\n",
    "    '''\n",
    "    N=len(area_ratio)\n",
    "    accept,alias=[0]*N,[0]*N\n",
    "    small,large=[],[]\n",
    "    area_ratio=np.array(area_ratio)*N\n",
    "    for i,prob in enumerate(area_ratio):\n",
    "        if prob<1:\n",
    "            small.append(i)\n",
    "        else:\n",
    "            large.append(i)\n",
    "    while large and small:\n",
    "        small_idx,large_idx=small.pop(),large.pop()\n",
    "        accept[small_idx]=area_ratio[small_idx]\n",
    "        alias[small_idx]=large_idx\n",
    "        area_ratio[large_idx]=area_ratio[large_idx]-(1-alias[small_idx])\n",
    "        if area_ratio[large_idx]<1:\n",
    "            small.append(large_idx)\n",
    "        else:\n",
    "            large.append(large_idx)\n",
    "            \n",
    "    while large:\n",
    "        large_idx=large.pop()\n",
    "        accept[large_idx]=1\n",
    "    while small:\n",
    "        small_idx=small.pop()\n",
    "        accept[small_idx]=1\n",
    "    \n",
    "    return accept,alias\n",
    "        "
   ]
  },
  {
   "cell_type": "code",
   "execution_count": 67,
   "metadata": {},
   "outputs": [],
   "source": [
    "def alias_sample(accept,alias):\n",
    "    N=len(accept)\n",
    "    i=int(np.floor(np.random.rand()*N))\n",
    "    r=np.random.rand()\n",
    "    if r<accept[i]:\n",
    "        return i\n",
    "    else:\n",
    "        return alias[i]"
   ]
  },
  {
   "cell_type": "code",
   "execution_count": 68,
   "metadata": {},
   "outputs": [
    {
     "data": {
      "text/plain": [
       "['Lan', 'Zhang', 'friend1', 'friend2', 'friend3']"
      ]
     },
     "execution_count": 68,
     "metadata": {},
     "output_type": "execute_result"
    }
   ],
   "source": [
    "G.get_edge_data('Me','Zhang')['weight']\n",
    "list(G.nodes())\n",
    "list(G.edges())\n",
    "G.has_edge('Zhang','Me')\n",
    "sorted(G.neighbors('Me'))\n"
   ]
  },
  {
   "cell_type": "code",
   "execution_count": 85,
   "metadata": {},
   "outputs": [],
   "source": [
    "def get_alias_edge(G,t,v,p,q):\n",
    "    '''t:previous node v:current node'''\n",
    "    unnormalized_probs=[]\n",
    "    for x in sorted(G.neighbors(v)):\n",
    "        weight=G.get_edge_data(x,v)['weight']\n",
    "        if x==t:  #回走\n",
    "            unnormalized_probs.append(weight/p)\n",
    "        elif G.has_edge(x,t): #BFS\n",
    "            unnormalized_probs.append(weight)\n",
    "        else: #DFS\n",
    "            unnormalized_probs.append(weight/q)\n",
    "    norm=sum(unnormalized_probs)\n",
    "    normalized_probs=list(map(lambda x:x/norm,unnormalized_probs))\n",
    "    return create_alias_table(normalized_probs)\n",
    "    "
   ]
  },
  {
   "cell_type": "code",
   "execution_count": 135,
   "metadata": {},
   "outputs": [],
   "source": [
    "def preprocess_transition_probs(G,p,q):\n",
    "    alias_nodes={}\n",
    "    for node in sorted(G.nodes()):\n",
    "        unnormalized_probs=[G.get_edge_data(node,nbr)['weight'] for nbr in sorted(G.neighbors(node))]\n",
    "        norm=sum(unnormalized_probs)\n",
    "        normalized_probs=list(map(lambda x:x/norm,unnormalized_probs))\n",
    "        alias_nodes[node]=create_alias_table(normalized_probs)\n",
    "    alias_edges={}\n",
    "    for edge in list(G.edges()):\n",
    "        alias_edges[edge]=get_alias_edge(G,edge[0],edge[1],p,q)\n",
    "        alias_edges[(edge[1],edge[0])]=get_alias_edge(G,edge[1],edge[0],p,q)\n",
    "    return alias_nodes,alias_edges\n",
    "        "
   ]
  },
  {
   "cell_type": "code",
   "execution_count": 136,
   "metadata": {},
   "outputs": [
    {
     "data": {
      "text/plain": [
       "{'Lan': ([1, 1, 0.5], [0, 0, 1]),\n",
       " 'Me': ([1, 1, 0.4672897196261683, 0.4672897196261683, 0.4672897196261683],\n",
       "  [0, 0, 1, 1, 1]),\n",
       " 'Zhang': ([0.8620689655172415, 1, 0.3448275862068966], [1, 0, 1]),\n",
       " 'friend1': ([1], [0]),\n",
       " 'friend2': ([1], [0]),\n",
       " 'friend3': ([1], [0]),\n",
       " 'friend4': ([1], [0]),\n",
       " 'friend5': ([1], [0])}"
      ]
     },
     "execution_count": 136,
     "metadata": {},
     "output_type": "execute_result"
    }
   ],
   "source": [
    "alias_nodes,alias_edges=preprocess_transition_probs(G,2,0.8)\n",
    "alias_nodes"
   ]
  },
  {
   "cell_type": "code",
   "execution_count": 137,
   "metadata": {},
   "outputs": [
    {
     "data": {
      "text/plain": [
       "{('friend1',\n",
       "  'Me'): ([1,\n",
       "   1,\n",
       "   0.19801980198019803,\n",
       "   0.49504950495049505,\n",
       "   0.49504950495049505], [0, 0, 1, 1, 1]),\n",
       " ('Me', 'friend1'): ([1], [0]),\n",
       " ('friend2',\n",
       "  'Me'): ([1,\n",
       "   1,\n",
       "   0.49504950495049505,\n",
       "   0.19801980198019803,\n",
       "   0.49504950495049505], [0, 0, 1, 1, 1]),\n",
       " ('Me', 'friend2'): ([1], [0]),\n",
       " ('friend3',\n",
       "  'Me'): ([1,\n",
       "   1,\n",
       "   0.49504950495049505,\n",
       "   0.49504950495049505,\n",
       "   0.19801980198019803], [0, 0, 1, 1, 1]),\n",
       " ('Me', 'friend3'): ([1], [0]),\n",
       " ('Me', 'Zhang'): ([1, 1, 0.5905511811023623], [0, 0, 1]),\n",
       " ('Zhang',\n",
       "  'Me'): ([1,\n",
       "   1,\n",
       "   0.7062146892655368,\n",
       "   0.7062146892655368,\n",
       "   0.7062146892655368], [0, 0, 1, 1, 1]),\n",
       " ('Me', 'Lan'): ([0.75, 1, 0.75], [1, 0, 1]),\n",
       " ('Lan',\n",
       "  'Me'): ([0.6127450980392157,\n",
       "   1,\n",
       "   0.6127450980392157,\n",
       "   0.6127450980392157,\n",
       "   0.6127450980392157], [1, 0, 1, 1, 1]),\n",
       " ('Zhang', 'friend4'): ([1], [0]),\n",
       " ('friend4', 'Zhang'): ([0.9259259259259258, 1, 0.14814814814814814],\n",
       "  [1, 0, 1]),\n",
       " ('Zhang', 'Lan'): ([1, 1, 0.75], [0, 0, 0]),\n",
       " ('Lan', 'Zhang'): ([0.487012987012987, 1, 0.487012987012987], [1, 0, 1]),\n",
       " ('Lan', 'friend5'): ([1], [0]),\n",
       " ('friend5', 'Lan'): ([1, 1, 0.2222222222222222], [0, 0, 1])}"
      ]
     },
     "execution_count": 137,
     "metadata": {},
     "output_type": "execute_result"
    }
   ],
   "source": [
    "alias_edges"
   ]
  },
  {
   "cell_type": "code",
   "execution_count": 138,
   "metadata": {},
   "outputs": [],
   "source": [
    "def node2vec_walk(G,walk_length,start_node,alias_nodes,alias_edges):\n",
    "    walk=[start_node]\n",
    "    while len(walk)<walk_length:\n",
    "        cur=walk[-1]\n",
    "        cur_nbrs=sorted(G.neighbors(cur))\n",
    "        if len(cur_nbrs)>0:\n",
    "            if len(walk)==1:\n",
    "                walk.append(cur_nbrs[alias_sample(alias_nodes[cur][0],alias_nodes[cur][1])])\n",
    "            else:\n",
    "                prev=walk[-2]\n",
    "                next=cur_nbrs[alias_sample(alias_edges[(prev,cur)][0],alias_edges[(prev,cur)][1])]\n",
    "                walk.append(next)\n",
    "        else:\n",
    "            break\n",
    "    return walk"
   ]
  },
  {
   "cell_type": "code",
   "execution_count": null,
   "metadata": {},
   "outputs": [],
   "source": []
  },
  {
   "cell_type": "code",
   "execution_count": 139,
   "metadata": {},
   "outputs": [
    {
     "data": {
      "text/plain": [
       "['Me', 'Zhang', 'Me', 'Lan', 'Zhang', 'Me', 'friend3', 'Me', 'friend3', 'Me']"
      ]
     },
     "execution_count": 139,
     "metadata": {},
     "output_type": "execute_result"
    }
   ],
   "source": [
    "node2vec_walk(G,10,'Me',alias_nodes,alias_edges)"
   ]
  },
  {
   "cell_type": "code",
   "execution_count": 140,
   "metadata": {},
   "outputs": [],
   "source": [
    "import random\n",
    "def simulate_walks(G,num_walks,walk_length,alias_nodes,alias_edges,rand=random.Random()):\n",
    "    walks=[]\n",
    "    nodes=list(G.nodes())\n",
    "    for i in range(num_walks):\n",
    "        rand.shuffle(nodes)\n",
    "        for node in nodes:\n",
    "            walks.append(node2vec_walk(G,walk_length,node,alias_nodes,alias_edges))\n",
    "    return walks\n",
    "    "
   ]
  },
  {
   "cell_type": "code",
   "execution_count": 146,
   "metadata": {},
   "outputs": [],
   "source": [
    "walks=simulate_walks(G,10,10,alias_nodes,alias_edges,rand=random.Random())"
   ]
  },
  {
   "cell_type": "code",
   "execution_count": 151,
   "metadata": {},
   "outputs": [
    {
     "data": {
      "text/plain": [
       "array([-0.13974336, -0.00535731, -0.07112405, -0.12068465, -0.04678886,\n",
       "       -0.04699158,  0.13902713, -0.13237877, -0.20016567,  0.14598444,\n",
       "       -0.03026583,  0.04862763,  0.03326393, -0.0760393 , -0.00311179,\n",
       "        0.06341337,  0.02879526, -0.01971069,  0.03543255, -0.05967962],\n",
       "      dtype=float32)"
      ]
     },
     "execution_count": 151,
     "metadata": {},
     "output_type": "execute_result"
    }
   ],
   "source": [
    "from gensim.models import Word2Vec\n",
    "model = Word2Vec(walks, size=20, window=2, min_count=0, sg=1,iter=20)\n",
    "model.wv['Zhang']"
   ]
  },
  {
   "cell_type": "code",
   "execution_count": 152,
   "metadata": {},
   "outputs": [
    {
     "data": {
      "text/plain": [
       "[('Me', 0.9778188467025757)]"
      ]
     },
     "execution_count": 152,
     "metadata": {},
     "output_type": "execute_result"
    }
   ],
   "source": [
    "model.wv.most_similar('Zhang',topn=1)"
   ]
  },
  {
   "cell_type": "code",
   "execution_count": null,
   "metadata": {},
   "outputs": [],
   "source": []
  }
 ],
 "metadata": {
  "kernelspec": {
   "display_name": "Python 3",
   "language": "python",
   "name": "python3"
  },
  "language_info": {
   "codemirror_mode": {
    "name": "ipython",
    "version": 3
   },
   "file_extension": ".py",
   "mimetype": "text/x-python",
   "name": "python",
   "nbconvert_exporter": "python",
   "pygments_lexer": "ipython3",
   "version": "3.7.1"
  }
 },
 "nbformat": 4,
 "nbformat_minor": 2
}
