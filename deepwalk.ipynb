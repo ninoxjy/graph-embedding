{
 "cells": [
  {
   "cell_type": "code",
   "execution_count": 3,
   "metadata": {},
   "outputs": [
    {
     "data": {
      "image/png": "[encoded data removed]",
      "text/plain": [
       "<Figure size 432x288 with 1 Axes>"
      ]
     },
     "metadata": {
      "needs_background": "light"
     },
     "output_type": "display_data"
    }
   ],
   "source": [
    "import networkx as nx\n",
    "import gensim \n",
    "import numpy as np\n",
    "import matplotlib.pyplot as plt\n",
    "node_list=['friend1','friend2','friend3','Me','Zhang','Lan','friend4','friend5']\n",
    "edge_list=[('friend1','Me',1),('friend2','Me',1),('friend3','Me',1),('Zhang','Me',1)\n",
    ",('Lan','Me',1),('friend4','Zhang',1),('friend5','Lan',1),('Zhang','Lan',1)]\n",
    "#创建空图\n",
    "G=nx.Graph()\n",
    "#从一个列表中添加节点\n",
    "G.add_nodes_from(node_list)\n",
    "#根据（边，边，权重）加载\n",
    "G.add_weighted_edges_from(edge_list)\n",
    "#plot\n",
    "nx.draw_networkx(G,node_list=G.nodes(),edges=edge_list)"
   ]
  },
  {
   "cell_type": "code",
   "execution_count": null,
   "metadata": {},
   "outputs": [],
   "source": []
  },
  {
   "cell_type": "code",
   "execution_count": 58,
   "metadata": {},
   "outputs": [
    {
     "name": "stdout",
     "output_type": "stream",
     "text": [
      "['Me', 'friend1', 'Me', 'friend1', 'Me', 'friend1', 'Me', 'friend2', 'Me', 'friend1', 'Me', 'friend3', 'Me', 'friend3', 'Me', 'Lan', 'friend5', 'Lan', 'Me', 'friend2']\n"
     ]
    }
   ],
   "source": [
    "import random\n",
    "random.seed(666)\n",
    "def random_walk(G,start=None,path_length=20,alpha=0,rand=random.Random()):\n",
    "    '''return a random walk path'''\n",
    "    if start:\n",
    "        path=[start]\n",
    "    else:\n",
    "        path=[rand.choice(list(G.nodes()))]\n",
    "    while len(path)<path_length:\n",
    "        cur=path[-1]\n",
    "        #find it's neighbors\n",
    "        if len(G[cur])>0:\n",
    "            if rand.random()>=alpha:\n",
    "                path.append(rand.choice(list(nx.all_neighbors(G,cur))))\n",
    "            else:\n",
    "                path.append(path[0])\n",
    "        else:\n",
    "            break\n",
    "    return path\n",
    "print(random_walk(G,start='Me'))\n",
    "            "
   ]
  },
  {
   "cell_type": "code",
   "execution_count": 59,
   "metadata": {},
   "outputs": [
    {
     "name": "stdout",
     "output_type": "stream",
     "text": [
      "[['Me', 'friend2', 'Me', 'Zhang', 'Me', 'Lan', 'Me', 'friend3', 'Me', 'friend3', 'Me', 'friend3', 'Me', 'friend3', 'Me', 'friend2', 'Me', 'friend2', 'Me', 'friend1'], ['friend1', 'Me', 'friend2', 'Me', 'Zhang', 'Lan', 'Me', 'friend1', 'Me', 'Zhang', 'Lan', 'Me', 'Zhang', 'Me', 'Zhang', 'friend4', 'Zhang', 'friend4', 'Zhang', 'friend4'], ['Lan', 'Me', 'friend1', 'Me', 'friend2', 'Me', 'Zhang', 'Lan', 'friend5', 'Lan', 'Me', 'friend3', 'Me', 'friend1', 'Me', 'friend1', 'Me', 'friend1', 'Me', 'friend3'], ['friend5', 'Lan', 'Me', 'Lan', 'Zhang', 'friend4', 'Zhang', 'friend4', 'Zhang', 'friend4', 'Zhang', 'friend4', 'Zhang', 'Me', 'friend1', 'Me', 'friend1', 'Me', 'friend3', 'Me'], ['friend2', 'Me', 'friend1', 'Me', 'friend1', 'Me', 'Lan', 'Me', 'Lan', 'friend5', 'Lan', 'Me', 'friend2', 'Me', 'friend3', 'Me', 'Zhang', 'Lan', 'Me', 'friend3'], ['Zhang', 'friend4', 'Zhang', 'Me', 'friend1', 'Me', 'friend3', 'Me', 'friend1', 'Me', 'Lan', 'Zhang', 'Lan', 'Me', 'friend2', 'Me', 'Zhang', 'Lan', 'Zhang', 'Me'], ['friend4', 'Zhang', 'Lan', 'friend5', 'Lan', 'Zhang', 'Lan', 'Me', 'Lan', 'friend5', 'Lan', 'Zhang', 'Me', 'Zhang', 'friend4', 'Zhang', 'friend4', 'Zhang', 'friend4', 'Zhang'], ['friend3', 'Me', 'Zhang', 'Me', 'Zhang', 'Lan', 'Zhang', 'friend4', 'Zhang', 'Me', 'friend2', 'Me', 'Lan', 'friend5', 'Lan', 'Zhang', 'friend4', 'Zhang', 'Me', 'friend3'], ['Lan', 'friend5', 'Lan', 'Zhang', 'friend4', 'Zhang', 'Lan', 'friend5', 'Lan', 'Zhang', 'Lan', 'Me', 'friend1', 'Me', 'Lan', 'Me', 'friend2', 'Me', 'friend3', 'Me'], ['friend5', 'Lan', 'friend5', 'Lan', 'Zhang', 'Lan', 'Zhang', 'Lan', 'friend5', 'Lan', 'Me', 'friend3', 'Me', 'Lan', 'Zhang', 'Lan', 'friend5', 'Lan', 'Zhang', 'Lan'], ['friend1', 'Me', 'Lan', 'friend5', 'Lan', 'friend5', 'Lan', 'friend5', 'Lan', 'friend5', 'Lan', 'Zhang', 'friend4', 'Zhang', 'Lan', 'Me', 'friend1', 'Me', 'friend2', 'Me'], ['friend2', 'Me', 'friend3', 'Me', 'friend3', 'Me', 'friend3', 'Me', 'Zhang', 'friend4', 'Zhang', 'Lan', 'Me', 'Zhang', 'friend4', 'Zhang', 'Lan', 'Me', 'Lan', 'friend5'], ['friend4', 'Zhang', 'Me', 'friend1', 'Me', 'friend3', 'Me', 'Zhang', 'Lan', 'Me', 'Lan', 'Zhang', 'Lan', 'Zhang', 'Lan', 'friend5', 'Lan', 'Me', 'friend2', 'Me'], ['Zhang', 'Lan', 'friend5', 'Lan', 'friend5', 'Lan', 'Zhang', 'friend4', 'Zhang', 'friend4', 'Zhang', 'Me', 'Zhang', 'Lan', 'friend5', 'Lan', 'friend5', 'Lan', 'friend5', 'Lan'], ['Me', 'Lan', 'Zhang', 'friend4', 'Zhang', 'friend4', 'Zhang', 'friend4', 'Zhang', 'friend4', 'Zhang', 'Lan', 'Me', 'friend1', 'Me', 'friend1', 'Me', 'friend2', 'Me', 'friend2'], ['friend3', 'Me', 'Lan', 'Me', 'Lan', 'Zhang', 'Lan', 'Zhang', 'friend4', 'Zhang', 'Lan', 'Zhang', 'friend4', 'Zhang', 'friend4', 'Zhang', 'Me', 'friend2', 'Me', 'friend1']]\n"
     ]
    }
   ],
   "source": [
    "def build_deepwalk_corpus(G,num_paths,rand=random.Random()):\n",
    "    walks=[]\n",
    "    nodes=list(G.nodes())\n",
    "    for i in range(num_paths):\n",
    "        rand.shuffle(nodes)\n",
    "        for node in nodes:\n",
    "            walks.append(random_walk(G,start=node))\n",
    "    return walks\n",
    "print(build_deepwalk_corpus(G,num_paths=2))"
   ]
  },
  {
   "cell_type": "code",
   "execution_count": 81,
   "metadata": {},
   "outputs": [
    {
     "data": {
      "text/plain": [
       "[('Zhang', 0.9844411611557007),\n",
       " ('Lan', 0.9722907543182373),\n",
       " ('friend5', 0.9581975340843201),\n",
       " ('friend1', 0.865242063999176),\n",
       " ('Me', 0.8347228765487671),\n",
       " ('friend2', 0.8336395621299744),\n",
       " ('friend3', 0.8204163312911987)]"
      ]
     },
     "execution_count": 81,
     "metadata": {},
     "output_type": "execute_result"
    }
   ],
   "source": [
    "from gensim.models import Word2Vec\n",
    "corpus=build_deepwalk_corpus(G,num_paths=20)\n",
    "model=Word2Vec(corpus,size=20,window=2,min_count=1,sg=1,iter=30)\n",
    "model.wv['Me']\n",
    "model.wv.most_similar('friend4')"
   ]
  },
  {
   "cell_type": "code",
   "execution_count": 82,
   "metadata": {},
   "outputs": [
    {
     "data": {
      "text/plain": [
       "[('Lan', 0.991287350654602)]"
      ]
     },
     "execution_count": 82,
     "metadata": {},
     "output_type": "execute_result"
    }
   ],
   "source": [
    "model.wv.most_similar('Zhang',topn=1)"
   ]
  },
  {
   "cell_type": "code",
   "execution_count": null,
   "metadata": {},
   "outputs": [],
   "source": []
  }
 ],
 "metadata": {
  "kernelspec": {
   "display_name": "Python 3",
   "language": "python",
   "name": "python3"
  },
  "language_info": {
   "codemirror_mode": {
    "name": "ipython",
    "version": 3
   },
   "file_extension": ".py",
   "mimetype": "text/x-python",
   "name": "python",
   "nbconvert_exporter": "python",
   "pygments_lexer": "ipython3",
   "version": "3.7.1"
  }
 },
 "nbformat": 4,
 "nbformat_minor": 2
}
